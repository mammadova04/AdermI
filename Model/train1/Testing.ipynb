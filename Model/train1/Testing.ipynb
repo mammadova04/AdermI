{
 "cells": [
  {
   "cell_type": "code",
   "execution_count": 1,
   "id": "733247c4-fa41-47a6-b4f7-3b9c397eb147",
   "metadata": {},
   "outputs": [],
   "source": [
    "import tensorflow as tf\n",
    "import numpy as np\n",
    "from tensorflow.keras.preprocessing import image\n",
    "import os\n"
   ]
  },
  {
   "cell_type": "code",
   "execution_count": 3,
   "id": "22f4f1a5-e69d-413c-8ea1-d35d9e3b1b74",
   "metadata": {},
   "outputs": [
    {
     "name": "stderr",
     "output_type": "stream",
     "text": [
      "WARNING:absl:Compiled the loaded model, but the compiled metrics have yet to be built. `model.compile_metrics` will be empty until you train or evaluate the model.\n"
     ]
    }
   ],
   "source": [
    "model = tf.keras.models.load_model('skin_disease_classifier.h5')\n"
   ]
  },
  {
   "cell_type": "code",
   "execution_count": 5,
   "id": "0c7ca685-2197-4b16-af80-93b4620270cd",
   "metadata": {},
   "outputs": [],
   "source": [
    "def prepare_image(img_path, target_size=(128, 128)):\n",
    "    img = image.load_img(img_path, target_size=target_size)\n",
    "    img_array = image.img_to_array(img)\n",
    "    img_array = np.expand_dims(img_array, axis=0)\n",
    "    img_array = img_array / 255.0  # Normalizing as per the training set\n",
    "    return img_array\n"
   ]
  },
  {
   "cell_type": "code",
   "execution_count": 23,
   "id": "ccafd252-d9ca-475b-a3fd-aaa5e0785dd2",
   "metadata": {},
   "outputs": [],
   "source": [
    "class_labels = ['Atopic Dermatitis', 'Basal Cell Carcinoma', 'Benign Keratosis-like Lesions (BKL)', 'Eczema', 'Melanocytic Nevi (NV)',\n",
    "                'Melanoma', 'Psoriasis', 'Seborrheic Keratoses', 'Tinea Ringworm Candidiasis', 'Warts Molluscum']\n",
    "\n",
    "def predict_image(img_path):\n",
    "    img_array = prepare_image(img_path)\n",
    "    prediction = model.predict(img_array)\n",
    "    predicted_class = np.argmax(prediction, axis=1)[0]\n",
    "    confidence = np.max(prediction) * 100\n",
    "    print(f\"Predicted Class: {class_labels[predicted_class]}, Confidence: {confidence:.2f}%\")\n"
   ]
  },
  {
   "cell_type": "code",
   "execution_count": 29,
   "id": "f9a38cf2-76bf-4eb8-b56a-dc5abe914c84",
   "metadata": {},
   "outputs": [
    {
     "name": "stdout",
     "output_type": "stream",
     "text": [
      "\u001b[1m1/1\u001b[0m \u001b[32m━━━━━━━━━━━━━━━━━━━━\u001b[0m\u001b[37m\u001b[0m \u001b[1m0s\u001b[0m 19ms/step\n",
      "Predicted Class: Melanocytic Nevi (NV), Confidence: 80.21%\n"
     ]
    }
   ],
   "source": [
    "test_image_path = 'test_img.jpg'\n",
    "predict_image(test_image_path)\n"
   ]
  },
  {
   "cell_type": "code",
   "execution_count": null,
   "id": "491b6329-84eb-4cf1-b946-e6c5ef029746",
   "metadata": {},
   "outputs": [],
   "source": []
  }
 ],
 "metadata": {
  "kernelspec": {
   "display_name": "Python 3 (ipykernel)",
   "language": "python",
   "name": "python3"
  },
  "language_info": {
   "codemirror_mode": {
    "name": "ipython",
    "version": 3
   },
   "file_extension": ".py",
   "mimetype": "text/x-python",
   "name": "python",
   "nbconvert_exporter": "python",
   "pygments_lexer": "ipython3",
   "version": "3.12.4"
  }
 },
 "nbformat": 4,
 "nbformat_minor": 5
}
