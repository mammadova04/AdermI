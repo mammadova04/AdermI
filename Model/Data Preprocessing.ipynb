{
 "cells": [
  {
   "cell_type": "code",
   "execution_count": 1,
   "id": "4ae9b042",
   "metadata": {},
   "outputs": [],
   "source": [
    "import os\n",
    "import shutil\n",
    "from sklearn.model_selection import train_test_split\n"
   ]
  },
  {
   "cell_type": "code",
   "execution_count": 8,
   "id": "567eee90",
   "metadata": {},
   "outputs": [],
   "source": [
    "# Define paths\n",
    "raw_data_dir = os.path.join('IMG_CLASSES')\n",
    "split_dir = os.path.join('split')"
   ]
  },
  {
   "cell_type": "code",
   "execution_count": 10,
   "id": "f90c225f",
   "metadata": {},
   "outputs": [],
   "source": [
    "# Create directories for splits\n",
    "os.makedirs(os.path.join(split_dir, 'train'), exist_ok=True)\n",
    "os.makedirs(os.path.join(split_dir, 'test'), exist_ok=True)\n"
   ]
  },
  {
   "cell_type": "code",
   "execution_count": 12,
   "id": "b8afe9ba",
   "metadata": {},
   "outputs": [],
   "source": [
    "# List all classes\n",
    "classes = os.listdir(raw_data_dir)"
   ]
  },
  {
   "cell_type": "code",
   "execution_count": 14,
   "id": "fb4b9c1e",
   "metadata": {},
   "outputs": [],
   "source": [
    "# Split ratio\n",
    "train_size = 0.8  # 80% training, 20% testing"
   ]
  },
  {
   "cell_type": "code",
   "execution_count": 16,
   "id": "6fbaff7e",
   "metadata": {},
   "outputs": [
    {
     "name": "stdout",
     "output_type": "stream",
     "text": [
      "Dataset split completed.\n"
     ]
    }
   ],
   "source": [
    "for cls in classes:\n",
    "    cls_path = os.path.join(raw_data_dir, cls)\n",
    "    \n",
    "    # Ensure it is a directory\n",
    "    if os.path.isdir(cls_path):\n",
    "        images = os.listdir(cls_path)\n",
    "        \n",
    "        # Split images into train and test\n",
    "        train_images, test_images = train_test_split(images, train_size=train_size, random_state=42)\n",
    "        \n",
    "        # Create class directories in split folders\n",
    "        os.makedirs(os.path.join(split_dir, 'train', cls), exist_ok=True)\n",
    "        os.makedirs(os.path.join(split_dir, 'test', cls), exist_ok=True)\n",
    "        \n",
    "        # Copy images to the appropriate directories\n",
    "        for img in train_images:\n",
    "            shutil.copy(os.path.join(cls_path, img), os.path.join(split_dir, 'train', cls, img))\n",
    "        \n",
    "        for img in test_images:\n",
    "            shutil.copy(os.path.join(cls_path, img), os.path.join(split_dir, 'test', cls, img))\n",
    "\n",
    "print(\"Dataset split completed.\")"
   ]
  },
  {
   "cell_type": "code",
   "execution_count": null,
   "id": "ad6b3407",
   "metadata": {},
   "outputs": [],
   "source": []
  },
  {
   "cell_type": "code",
   "execution_count": null,
   "id": "fbe4429b-8243-4980-836f-fbeda72f2698",
   "metadata": {},
   "outputs": [],
   "source": []
  }
 ],
 "metadata": {
  "kernelspec": {
   "display_name": "Python 3 (ipykernel)",
   "language": "python",
   "name": "python3"
  },
  "language_info": {
   "codemirror_mode": {
    "name": "ipython",
    "version": 3
   },
   "file_extension": ".py",
   "mimetype": "text/x-python",
   "name": "python",
   "nbconvert_exporter": "python",
   "pygments_lexer": "ipython3",
   "version": "3.12.4"
  }
 },
 "nbformat": 4,
 "nbformat_minor": 5
}
