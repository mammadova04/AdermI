{
 "cells": [
  {
   "cell_type": "code",
   "execution_count": null,
   "id": "3917fe27-5c9e-46ad-9a2c-d9d7d20c2537",
   "metadata": {},
   "outputs": [],
   "source": [
    "import tensorflow as tf\n",
    "from tensorflow.keras.preprocessing import image\n",
    "import numpy as np\n",
    "import matplotlib.pyplot as plt\n",
    "import os"
   ]
  },
  {
   "cell_type": "code",
   "execution_count": null,
   "id": "d2093533-296b-4766-9094-01d5bda7bead",
   "metadata": {},
   "outputs": [],
   "source": [
    "# Path to your trained model (adjust if necessary)\n",
    "model_path = 'skin_disease_classifier_v2.keras'\n",
    "\n"
   ]
  },
  {
   "cell_type": "code",
   "execution_count": null,
   "id": "604ab74c-f63d-4972-97de-af93336bb035",
   "metadata": {},
   "outputs": [],
   "source": [
    "# Load the trained model\n",
    "model = tf.keras.models.load_model(model_path)\n",
    "\n"
   ]
  },
  {
   "cell_type": "code",
   "execution_count": null,
   "id": "3c70b47c-2958-4cda-8df9-6e4eb3c1670b",
   "metadata": {},
   "outputs": [],
   "source": [
    "# Class labels (adjust if necessary)\n",
    "class_labels = ['Acne', 'Atopic Dermatitis', 'Basal Cell Carcinoma', 'Melanoma']\n"
   ]
  },
  {
   "cell_type": "code",
   "execution_count": null,
   "id": "09a5e7ee-5997-4feb-9201-ac8cb34d21f4",
   "metadata": {},
   "outputs": [],
   "source": [
    "# Preprocessing function for the custom image\n",
    "def preprocess_image(img_path, target_size=(224, 224)):\n",
    "    img = image.load_img(img_path, target_size=target_size)  # Load image with target size\n",
    "    img_array = image.img_to_array(img)  # Convert to array\n",
    "    img_array = np.expand_dims(img_array, axis=0)  # Expand dimensions for batch size (1, 224, 224, 3)\n",
    "    img_array /= 255.0  # Normalize pixel values\n",
    "    return img_array\n"
   ]
  },
  {
   "cell_type": "code",
   "execution_count": null,
   "id": "876994f1-8c5f-42ea-830e-ed7f83441d95",
   "metadata": {},
   "outputs": [],
   "source": [
    "# Function to make prediction\n",
    "def predict_skin_disease(img_path):\n",
    "    # Preprocess the image\n",
    "    processed_img = preprocess_image(img_path)\n",
    "    \n",
    "    # Predict using the model\n",
    "    predictions = model.predict(processed_img)\n",
    "    \n",
    "    # Get the index of the highest prediction score\n",
    "    predicted_class_idx = np.argmax(predictions[0])\n",
    "    \n",
    "    # Get the predicted class label\n",
    "    predicted_class = class_labels[predicted_class_idx]\n",
    "    \n",
    "    # Display the custom image\n",
    "    img = image.load_img(img_path)\n",
    "    plt.imshow(img)\n",
    "    plt.axis('off')\n",
    "    plt.title(f'Predicted: {predicted_class}')\n",
    "    plt.show()\n",
    "    \n",
    "    print(f\"Prediction: {predicted_class}\")\n",
    "    print(f\"Confidence Scores: {predictions[0]}\")\n"
   ]
  },
  {
   "cell_type": "code",
   "execution_count": null,
   "id": "e51e1996-fcbd-4edd-9cf8-68203894f254",
   "metadata": {},
   "outputs": [],
   "source": [
    "# Path to the custom image\n",
    "custom_img_path = 'custom_image.jpg'\n"
   ]
  },
  {
   "cell_type": "code",
   "execution_count": null,
   "id": "b34f6256-dd6b-4aa4-abac-18707513ae5a",
   "metadata": {},
   "outputs": [],
   "source": [
    "# Make prediction on the custom image\n",
    "predict_skin_disease(custom_img_path)\n"
   ]
  },
  {
   "cell_type": "code",
   "execution_count": null,
   "id": "831320dc-986c-441f-871b-44f0f701e63a",
   "metadata": {},
   "outputs": [],
   "source": []
  }
 ],
 "metadata": {
  "kernelspec": {
   "display_name": "Python 3 (ipykernel)",
   "language": "python",
   "name": "python3"
  },
  "language_info": {
   "codemirror_mode": {
    "name": "ipython",
    "version": 3
   },
   "file_extension": ".py",
   "mimetype": "text/x-python",
   "name": "python",
   "nbconvert_exporter": "python",
   "pygments_lexer": "ipython3",
   "version": "3.12.4"
  }
 },
 "nbformat": 4,
 "nbformat_minor": 5
}
