{
 "cells": [
  {
   "cell_type": "code",
   "execution_count": 5,
   "id": "f9a38cf2-76bf-4eb8-b56a-dc5abe914c84",
   "metadata": {},
   "outputs": [
    {
     "name": "stdout",
     "output_type": "stream",
     "text": [
      "\u001b[1m1/1\u001b[0m \u001b[32m━━━━━━━━━━━━━━━━━━━━\u001b[0m\u001b[37m\u001b[0m \u001b[1m2s\u001b[0m 2s/step\n",
      "Predicted class: Tinea Ringworm Candidiasis (Confidence: 1.00)\n"
     ]
    }
   ],
   "source": [
    "import numpy as np\n",
    "import tensorflow as tf\n",
    "from tensorflow.keras.preprocessing import image\n",
    "from tensorflow.keras.applications.efficientnet import preprocess_input, decode_predictions\n",
    "\n",
    "# Load the trained model (assuming 'best_model.h5' is the saved model)\n",
    "model = tf.keras.models.load_model('best_model.h5.keras')\n",
    "\n",
    "# Define the class names (make sure they match your training classes)\n",
    "class_names = ['Atopic Dermatitis', 'Basal Cell Carcinoma', 'Benign Keratosis-like Lesions (BKL)', 'Eczema', 'Melanocytic Nevi (NV)',\n",
    "                'Melanoma', 'Psoriasis', 'Seborrheic Keratoses', 'Tinea Ringworm Candidiasis', 'Warts Molluscum']\n",
    "\n",
    "# Function to preprocess and predict a single image\n",
    "def predict_image(image_path):\n",
    "    # Load the image from the specified path and resize to match input size of the model\n",
    "    img = image.load_img(image_path, target_size=(224, 224))  # Resize image to 224x224\n",
    "    img_array = image.img_to_array(img)  # Convert image to array\n",
    "    img_array = np.expand_dims(img_array, axis=0)  # Add batch dimension (1, 224, 224, 3)\n",
    "    \n",
    "    # Preprocess the image using the same preprocessing method as EfficientNetB0\n",
    "    img_array = preprocess_input(img_array)\n",
    "\n",
    "    # Predict the class probabilities\n",
    "    predictions = model.predict(img_array)\n",
    "\n",
    "    # Get the predicted class\n",
    "    predicted_class_index = np.argmax(predictions, axis=1)[0]\n",
    "    predicted_class_name = class_names[predicted_class_index]\n",
    "    confidence_score = predictions[0][predicted_class_index]\n",
    "\n",
    "    # Print the result\n",
    "    print(f\"Predicted class: {predicted_class_name} (Confidence: {confidence_score:.2f})\")\n",
    "\n",
    "    return predicted_class_name, confidence_score\n",
    "\n",
    "# Example usage:\n",
    "image_path = 'test_img.jpg'  # Provide the path to the image you want to classify\n",
    "predicted_class, confidence = predict_image(image_path)\n"
   ]
  },
  {
   "cell_type": "code",
   "execution_count": null,
   "id": "491b6329-84eb-4cf1-b946-e6c5ef029746",
   "metadata": {},
   "outputs": [],
   "source": []
  },
  {
   "cell_type": "code",
   "execution_count": null,
   "id": "017afdfe-32a1-48e9-bdc4-96eb967bd293",
   "metadata": {},
   "outputs": [],
   "source": []
  },
  {
   "cell_type": "code",
   "execution_count": null,
   "id": "e04cbd1a-fbb3-4212-aebd-a2e27affa0cb",
   "metadata": {},
   "outputs": [],
   "source": []
  }
 ],
 "metadata": {
  "kernelspec": {
   "display_name": "Python 3 (ipykernel)",
   "language": "python",
   "name": "python3"
  },
  "language_info": {
   "codemirror_mode": {
    "name": "ipython",
    "version": 3
   },
   "file_extension": ".py",
   "mimetype": "text/x-python",
   "name": "python",
   "nbconvert_exporter": "python",
   "pygments_lexer": "ipython3",
   "version": "3.12.4"
  }
 },
 "nbformat": 4,
 "nbformat_minor": 5
}
